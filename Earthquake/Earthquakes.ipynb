{
 "nbformat": 4,
 "nbformat_minor": 0,
 "metadata": {
  "colab": {
   "provenance": []
  },
  "kernelspec": {
   "name": "python3",
   "display_name": "Python 3"
  },
  "language_info": {
   "name": "python"
  }
 },
 "cells": [
  {
   "cell_type": "code",
   "execution_count": 1,
   "metadata": {
    "colab": {
     "base_uri": "https://localhost:8080/"
    },
    "id": "zpQWYvqIV-Dv",
    "outputId": "80aa9832-edc0-42eb-ae66-2f142eeafa75"
   },
   "outputs": [
    {
     "name": "stdout",
     "output_type": "stream",
     "text": [
      "Requirement already satisfied: xmltodict in /Users/vijaybhk/opt/anaconda3/envs/Final/lib/python3.9/site-packages (0.13.0)\r\n"
     ]
    }
   ],
   "source": [
    "!pip install xmltodict"
   ]
  },
  {
   "cell_type": "code",
   "source": [
    "import json, xmltodict, requests, datetime, csv"
   ],
   "metadata": {
    "id": "ra39_8OCWFwj"
   },
   "execution_count": 2,
   "outputs": []
  },
  {
   "cell_type": "code",
   "source": [
    "def get_location(lat, long):\n",
    "  \"\"\"\n",
    "  Function to get location using latitude and longitude from OpenCage\n",
    "  :param lat: latitude of the location\n",
    "  :param long: longitude of the location\n",
    "  :return: county name and state name\n",
    "  \"\"\"\n",
    "  full_url = \"https://api.opencagedata.com/geocode/v1/xml?q={}+{}&key=9ab50494c510450f852cedc2bf621e76\".format(float(lat), float(long))\n",
    "  response2 = requests.get(full_url)\n",
    "  if response2:\n",
    "    # Status code 200 - connection was good\n",
    "    location_data = xmltodict.parse(response2.text)\n",
    "    components_data = location_data[\"response\"][\"results\"][\"result\"][\"components\"]\n",
    "    try:\n",
    "      county_name = components_data[\"county\"]\n",
    "      state_name = components_data[\"state\"]\n",
    "    except:\n",
    "      county_name = \"N/A\"\n",
    "      state_name = \"N/A\"\n",
    "\n",
    "  else:\n",
    "    # Status code other than 200 - connection error\n",
    "    print(\"Connection error\")\n",
    "\n",
    "  return county_name, state_name"
   ],
   "metadata": {
    "id": "378Y3uyoa0r0"
   },
   "execution_count": 3,
   "outputs": []
  },
  {
   "cell_type": "code",
   "source": [
    "def get_time_str(data, time_label):\n",
    "  \"\"\"\n",
    "  Function to get time string from unix epoch time\n",
    "  :param data: Input json data\n",
    "  :param time_label: Input time label in the json data\n",
    "  :return: time string\n",
    "  \"\"\"\n",
    "\n",
    "  # Extract time(Unix epoch time format) from the data using time_label in the parser\n",
    "  orig_time = data[time_label]\n",
    "\n",
    "  # Convert milliseconds to seconds\n",
    "  orig_time_sec = orig_time / 1000\n",
    "\n",
    "  # Convert Unix epoch time to datetime object\n",
    "  datetime_timestamp = datetime.datetime.utcfromtimestamp(orig_time_sec)\n",
    "\n",
    "  # Subtract 7 hours to adjust for time zone difference\n",
    "  datetime_adj_timestamp = datetime_timestamp - datetime.timedelta(hours = 7)\n",
    "\n",
    "  # Convert to human-interpretable string\n",
    "  # It would say: “September 01, 2022 at 12:00:00 AM”\n",
    "  time_str = datetime_adj_timestamp.strftime(\"%B %d, %Y at %I:%M:%S %p\")\n",
    "\n",
    "  return time_str"
   ],
   "metadata": {
    "id": "HGiY0wI0DA9I"
   },
   "execution_count": 4,
   "outputs": []
  },
  {
   "cell_type": "code",
   "source": [
    "def main():\n",
    "  \"\"\"\n",
    "  Main function to extract earthquakes information and print output and save the data to csv\n",
    "  \"\"\"\n",
    "  response1 = requests.get(\"https://earthquake.usgs.gov/earthquakes/feed/v1.0/summary/all_hour.geojson\")\n",
    "\n",
    "  earthquake_data = json.loads(response1.text)\n",
    "\n",
    "  # List to store earthquakes information\n",
    "  earthquakes_list = []\n",
    "\n",
    "  if response1:\n",
    "    # Status code 200 - connection was good\n",
    "\n",
    "    features_data = earthquake_data[\"features\"]\n",
    "    for line in features_data:\n",
    "      properties_data = line[\"properties\"]\n",
    "\n",
    "      # Earthquake magnitude\n",
    "      magnitude = properties_data[\"mag\"]\n",
    "\n",
    "      # Earthquake time str\n",
    "      time = get_time_str(data=properties_data, time_label=\"time\")\n",
    "\n",
    "      # Earthquake coordinates\n",
    "      geometry_data = line[\"geometry\"]\n",
    "      coordinates_data = geometry_data[\"coordinates\"]\n",
    "      longitude = coordinates_data[0]\n",
    "      latitude = coordinates_data[1]\n",
    "\n",
    "      # Earthquake location\n",
    "      location = get_location(lat=latitude, long=longitude)\n",
    "      county = location[0]\n",
    "      state = location[1]\n",
    "\n",
    "      # List of each earthquake properties\n",
    "      earthquake_output = [time, magnitude, latitude, longitude, county, state]\n",
    "\n",
    "      # Appends above list as list of lists to the earthquake_list\n",
    "      earthquakes_list.append(earthquake_output)\n",
    "\n",
    "      # Print output with county and state names\n",
    "      if county != \"N/A\" and state != \"N/A\":\n",
    "        print(\"Magnitude {} earthquake on {} and located at ({}, {}) in {}, {}.\".format(magnitude, time, latitude, longitude, county, state))\n",
    "\n",
    "      # Print output if there is no county and state name\n",
    "      else:\n",
    "        print(\"Magnitude {} earthquake on {} and located at ({}, {}) in the Ocean.\".format(magnitude, time, latitude,\n",
    "                                                                                           longitude))\n",
    "\n",
    "    # csv writer, overwrites everytime the file is run\n",
    "    with open(\"earthquakes.csv\", \"w\", newline=\"\") as opener:\n",
    "      writer = csv.writer(opener)\n",
    "\n",
    "      # Header row\n",
    "      writer.writerow([\"Time\", \"Magnitude\", \"Latitude\", \"Longitude\", \"County\", \"State\"])\n",
    "\n",
    "      # Writes all rows to the csv using the earthquakes_list(list of lists)\n",
    "      writer.writerows(earthquakes_list)\n",
    "\n",
    "  else:\n",
    "    # Status code other than 200 - connection error\n",
    "    print(\"Connection error\")\n",
    "\n",
    "  return\n",
    "\n",
    "if __name__ == \"__main__\":\n",
    "  main()"
   ],
   "metadata": {
    "colab": {
     "base_uri": "https://localhost:8080/"
    },
    "id": "P0IwK9ZYzUq-",
    "outputId": "cc604e83-5505-4405-aafc-4361dd207080"
   },
   "execution_count": 5,
   "outputs": [
    {
     "name": "stdout",
     "output_type": "stream",
     "text": [
      "Magnitude 1.66 earthquake on February 26, 2023 at 09:32:05 PM and located at (38.8363342, -122.8026657) in Sonoma County, California.\n",
      "Magnitude 2 earthquake on February 26, 2023 at 09:29:07 PM and located at (63.2218, -150.4946) in Denali, Alaska.\n",
      "Magnitude 1.1 earthquake on February 26, 2023 at 09:15:29 PM and located at (61.8498, -148.4738) in Matanuska-Susitna, Alaska.\n",
      "Magnitude 0.27 earthquake on February 26, 2023 at 09:07:15 PM and located at (38.8311653, -122.8183365) in Sonoma County, California.\n",
      "Magnitude 0.75 earthquake on February 26, 2023 at 08:58:45 PM and located at (38.7901649, -122.7606659) in Sonoma County, California.\n",
      "Magnitude 2.3 earthquake on February 26, 2023 at 08:50:54 PM and located at (61.1418, -152.2504) in Kenai Peninsula, Alaska.\n",
      "Magnitude 3.08 earthquake on February 26, 2023 at 08:49:22 PM and located at (17.9293333333333, -66.9048333333333) in the Ocean.\n"
     ]
    }
   ]
  }
 ]
}
