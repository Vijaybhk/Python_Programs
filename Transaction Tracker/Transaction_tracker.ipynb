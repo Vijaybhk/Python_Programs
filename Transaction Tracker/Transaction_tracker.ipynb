{
  "nbformat": 4,
  "nbformat_minor": 0,
  "metadata": {
    "colab": {
      "provenance": []
    },
    "kernelspec": {
      "name": "python3",
      "display_name": "Python 3"
    },
    "language_info": {
      "name": "python"
    }
  },
  "cells": [
    {
      "cell_type": "markdown",
      "source": [
        "Import Statements"
      ],
      "metadata": {
        "id": "X7rrS6xHEjGM"
      }
    },
    {
      "cell_type": "code",
      "execution_count": 1,
      "metadata": {
        "id": "ozXoWxQL0x1l"
      },
      "outputs": [],
      "source": [
        "import csv"
      ]
    },
    {
      "cell_type": "markdown",
      "source": [
        "Existing ids list for records in final file transaction_records.csv"
      ],
      "metadata": {
        "id": "TO-P6gPDEE1Z"
      }
    },
    {
      "cell_type": "code",
      "source": [
        "existing_ids = []"
      ],
      "metadata": {
        "id": "Bwnv0OHDCeUw"
      },
      "execution_count": 2,
      "outputs": []
    },
    {
      "cell_type": "markdown",
      "source": [
        "Function to seek response whenever needed to do further analyses or end the program"
      ],
      "metadata": {
        "id": "YDB3cGirEZqG"
      }
    },
    {
      "cell_type": "code",
      "source": [
        "def seek_response():\n",
        "  # seeking response from user. validates case and whitespaces.\n",
        "  response_from_user = input(\"\\nWould you like to run any further analyses (yes/no)? \").lower().strip()\n",
        "  \n",
        "  # If user response is yes, executes tracker function to take import or statistics input\n",
        "  if response_from_user == \"yes\":\n",
        "    return tracker()\n",
        "  \n",
        "  # If user response is no, ends to entire program\n",
        "  elif response_from_user == \"no\":\n",
        "    return\n",
        "  \n",
        "  # If user is response is not among yes or no, seeks user response again to proceed.\n",
        "  else:\n",
        "    print(\"Invalid Input. Enter only yes or no.\")\n",
        "    return seek_response()"
      ],
      "metadata": {
        "id": "bQQ3_DzB-tOt"
      },
      "execution_count": 3,
      "outputs": []
    },
    {
      "cell_type": "markdown",
      "source": [
        "Function to add transactions which takes an input file to add transactions to the final file transaction_records.csv"
      ],
      "metadata": {
        "id": "HKszByOqEoTV"
      }
    },
    {
      "cell_type": "code",
      "source": [
        "def add_transactions(read_file):\n",
        "  # starting with no of new transactions for a new addition as 0\n",
        "  new_transactions = 0\n",
        "\n",
        "  # Opens input imported file in read mode\n",
        "  with open(read_file, \"r\") as opener:\n",
        "    reader = csv.reader(opener)\n",
        "    for row in reader:\n",
        "      transaction_id = int(row[0])\n",
        "\n",
        "      # If transaction id already exists in trasaction_records.csv, returns the transaction_id as already present\n",
        "      if transaction_id in existing_ids:\n",
        "        print(\"Data for ID\", str(transaction_id) ,\"already in transaction records.\")\n",
        "\n",
        "      else:\n",
        "\n",
        "        # Add the transaction to existing ids list for future check\n",
        "        existing_ids.append(transaction_id)\n",
        "\n",
        "        # Increment of the number of new transactions added by 1\n",
        "        new_transactions+=1\n",
        "\n",
        "        # Else add the transaction details to the final file\n",
        "        with open('transaction_records.csv', 'a', newline = '') as app_opener:\n",
        "          appender = csv.writer(app_opener)\n",
        "          appender.writerow(row)\n",
        "\n",
        "  # Outputs the number of transactions added at the end of addition and seeks response again     \n",
        "  print(\"{} transaction records successfully loaded.\".format(new_transactions))\n",
        "  seek_response()\n",
        "  return"
      ],
      "metadata": {
        "id": "6PBHBIyz-tRL"
      },
      "execution_count": 4,
      "outputs": []
    },
    {
      "cell_type": "markdown",
      "source": [
        "Function to perform steps for statistics or import"
      ],
      "metadata": {
        "id": "cDhPeHjqE02r"
      }
    },
    {
      "cell_type": "code",
      "source": [
        "def tracker():\n",
        "\n",
        "  # Take input whether user would like to import or check statistics\n",
        "  input_from_user = input(\"\\nWhat would you like to perform (import/statistics)? \").lower().strip()\n",
        "\n",
        "  if input_from_user == \"statistics\":\n",
        "    \n",
        "    try:\n",
        "\n",
        "      # If user inputs statistics, checks pending transactions amount and\n",
        "      # number of transactions to print output\n",
        "\n",
        "      with open(\"transaction_records.csv\", \"r\") as read_opener:\n",
        "        # Instantiate number of transactions in the final file as 0\n",
        "        row_count = 0\n",
        "\n",
        "        # Instantiate pending transaction amount as 0\n",
        "        amount = 0.0\n",
        "\n",
        "        reader = csv.reader(read_opener)\n",
        "        for line in reader:\n",
        "          # Increment number of transactions by 1\n",
        "          row_count=row_count+1\n",
        "\n",
        "          # Condition to check pending transactions\n",
        "          if line[2]=='PENDING':\n",
        "\n",
        "            # Increment amount by pending transaction amount\n",
        "            amount=amount+float(line[4])\n",
        "        print(\"Number of lifetime transactions: {}\".format(row_count))\n",
        "        print(\"Total dollar amount pending: {}\".format(amount))\n",
        "        seek_response()\n",
        "    \n",
        "    # If the file is not found or created yet, prints no data\n",
        "    except:\n",
        "      print(\"Sorry, no transaction data was loaded yet. Please try again.\")\n",
        "      seek_response()\n",
        "\n",
        "  elif input_from_user == \"import\":\n",
        "\n",
        "    # Takes file input to be imported\n",
        "    file_input = input(\"Which file would you like to import? \").lower().strip()\n",
        "\n",
        "    # If the file is among the list, transactions will be added\n",
        "    if file_input in [\"new_transactions1.csv\", \"new_transactions2.csv\"]:\n",
        "      add_transactions(file_input)\n",
        "    \n",
        "    # Else outputs a message that file not found and seeks response again\n",
        "    else:\n",
        "      print(\"Sorry, that file could not be found. Please try again.\")\n",
        "      seek_response()\n",
        "  \n",
        "  else:\n",
        "\n",
        "    # If user input is not among import or statistics, prints invalid input and re runs tracker function\n",
        "    print(\"Invalid Input. Enter only import or statistics.\")\n",
        "    tracker()\n",
        "  \n",
        "  return"
      ],
      "metadata": {
        "id": "LK0lXpLh-tgr"
      },
      "execution_count": 5,
      "outputs": []
    },
    {
      "cell_type": "markdown",
      "source": [
        "Main function to run the program"
      ],
      "metadata": {
        "id": "SVqwNkrVFFfg"
      }
    },
    {
      "cell_type": "code",
      "source": [
        "def main():\n",
        "  print(\"Welcome to the transaction tracker: \")\n",
        "  tracker()\n",
        "  return"
      ],
      "metadata": {
        "id": "KTCoRXQl-31H"
      },
      "execution_count": 6,
      "outputs": []
    },
    {
      "cell_type": "markdown",
      "source": [
        "Condition to run the main function"
      ],
      "metadata": {
        "id": "bMuiDohOFMrd"
      }
    },
    {
      "cell_type": "code",
      "source": [
        "if __name__ == \"__main__\":\n",
        "  main()"
      ],
      "metadata": {
        "colab": {
          "base_uri": "https://localhost:8080/"
        },
        "id": "qdPmMNC6-569",
        "outputId": "06d7bd71-e57c-4525-f18b-66cbe9b0367b"
      },
      "execution_count": 7,
      "outputs": [
        {
          "name": "stdout",
          "output_type": "stream",
          "text": [
            "Welcome to the transaction tracker: \n",
            "\n",
            "What would you like to perform (import/statistics)? STATISTICS\n",
            "Sorry, no transaction data was loaded yet. Please try again.\n",
            "\n",
            "Would you like to run any further analyses (yes/no)? yes\n",
            "\n",
            "What would you like to perform (import/statistics)? import\n",
            "Which file would you like to import? new_transactions1.csv\n",
            "4 transaction records successfully loaded.\n",
            "\n",
            "Would you like to run any further analyses (yes/no)? yes\n",
            "\n",
            "What would you like to perform (import/statistics)? statistics\n",
            "Number of lifetime transactions: 4\n",
            "Total dollar amount pending: 300.0\n",
            "\n",
            "Would you like to run any further analyses (yes/no)? yes\n",
            "\n",
            "What would you like to perform (import/statistics)? import\n",
            "Which file would you like to import? new_transactions2.csv\n",
            "Data for ID 1947302 already in transaction records.\n",
            "2 transaction records successfully loaded.\n",
            "\n",
            "Would you like to run any further analyses (yes/no)? yes\n",
            "\n",
            "What would you like to perform (import/statistics)? statistics\n",
            "Number of lifetime transactions: 6\n",
            "Total dollar amount pending: 7650.0\n",
            "\n",
            "Would you like to run any further analyses (yes/no)? yes\n",
            "\n",
            "What would you like to perform (import/statistics)? import\n",
            "Which file would you like to import? new_transactions3.csv\n",
            "Sorry, that file could not be found. Please try again.\n",
            "\n",
            "Would you like to run any further analyses (yes/no)? no\n"
          ]
        }
      ]
    }
  ]
}